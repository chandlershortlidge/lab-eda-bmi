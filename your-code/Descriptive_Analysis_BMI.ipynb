{
 "cells": [
  {
   "cell_type": "markdown",
   "id": "8669f4e7",
   "metadata": {},
   "source": [
    "# LAB | BMI Survey \n"
   ]
  },
  {
   "cell_type": "markdown",
   "id": "0e1c2d9c",
   "metadata": {},
   "source": [
    "## Part 1: Descriptive Analysis\n",
    "\n",
    "## Problem Description\n",
    "\n",
    "Overweight and obesity, measured by Body Mass Index (BMI), are increasing health concerns in Denmark and globally. This project analyzes BMI data from a Danish survey to provide an overview of BMI distributions and investigate potential factors influencing BMI, such as gender, age, and fast food consumption. The analysis aims to summarize and visualize the data using descriptive statistics and graphical methods.\n",
    "\n",
    "---\n",
    "\n",
    "## Instructions\n",
    "\n",
    "- Complete each section below using Python and appropriate libraries (e.g., pandas, numpy, matplotlib, seaborn).\n",
    "- Provide code, tables, and figures as needed.\n",
    "- Write brief explanations for your findings after each analysis step.\n",
    "- Do **not** include code in your final report; code should be submitted separately as an appendix.\n",
    "- Ensure all figures and tables are clearly labeled and referenced in your explanations.\n",
    "\n",
    "---"
   ]
  },
  {
   "cell_type": "markdown",
   "id": "77e1a6b2",
   "metadata": {},
   "source": [
    "## Q1. Data Overview\n",
    "\n",
    "**a) Short Description of the Data**\n",
    "\n",
    "- List all variables in the dataset.\n",
    "- Classify each variable as quantitative or categorical.\n",
    "- State the number of observations.\n",
    "- Check for missing values.\n",
    "\n",
    "\n",
    "**Instructions:**  \n",
    "- Summarize the dataset variables and their types.\n",
    "- Report the number of observations and any missing values.\n",
    "\n",
    "---"
   ]
  },
  {
   "cell_type": "code",
   "execution_count": 6,
   "id": "093bb00c",
   "metadata": {},
   "outputs": [
    {
     "data": {
      "text/html": [
       "<div>\n",
       "<style scoped>\n",
       "    .dataframe tbody tr th:only-of-type {\n",
       "        vertical-align: middle;\n",
       "    }\n",
       "\n",
       "    .dataframe tbody tr th {\n",
       "        vertical-align: top;\n",
       "    }\n",
       "\n",
       "    .dataframe thead th {\n",
       "        text-align: right;\n",
       "    }\n",
       "</style>\n",
       "<table border=\"1\" class=\"dataframe\">\n",
       "  <thead>\n",
       "    <tr style=\"text-align: right;\">\n",
       "      <th></th>\n",
       "      <th>height</th>\n",
       "      <th>weight</th>\n",
       "      <th>gender</th>\n",
       "      <th>urbanity</th>\n",
       "      <th>fastfood</th>\n",
       "    </tr>\n",
       "  </thead>\n",
       "  <tbody>\n",
       "    <tr>\n",
       "      <th>0</th>\n",
       "      <td>180</td>\n",
       "      <td>80</td>\n",
       "      <td>1</td>\n",
       "      <td>5</td>\n",
       "      <td>24.0</td>\n",
       "    </tr>\n",
       "    <tr>\n",
       "      <th>1</th>\n",
       "      <td>185</td>\n",
       "      <td>98</td>\n",
       "      <td>1</td>\n",
       "      <td>1</td>\n",
       "      <td>6.0</td>\n",
       "    </tr>\n",
       "    <tr>\n",
       "      <th>2</th>\n",
       "      <td>180</td>\n",
       "      <td>80</td>\n",
       "      <td>1</td>\n",
       "      <td>5</td>\n",
       "      <td>6.0</td>\n",
       "    </tr>\n",
       "    <tr>\n",
       "      <th>3</th>\n",
       "      <td>168</td>\n",
       "      <td>60</td>\n",
       "      <td>0</td>\n",
       "      <td>4</td>\n",
       "      <td>24.0</td>\n",
       "    </tr>\n",
       "    <tr>\n",
       "      <th>4</th>\n",
       "      <td>173</td>\n",
       "      <td>83</td>\n",
       "      <td>1</td>\n",
       "      <td>5</td>\n",
       "      <td>24.0</td>\n",
       "    </tr>\n",
       "  </tbody>\n",
       "</table>\n",
       "</div>"
      ],
      "text/plain": [
       "   height  weight  gender  urbanity  fastfood\n",
       "0     180      80       1         5      24.0\n",
       "1     185      98       1         1       6.0\n",
       "2     180      80       1         5       6.0\n",
       "3     168      60       0         4      24.0\n",
       "4     173      83       1         5      24.0"
      ]
     },
     "execution_count": 6,
     "metadata": {},
     "output_type": "execute_result"
    }
   ],
   "source": [
    "import pandas as pd \n",
    "import numpy as np\n",
    "import matplotlib.pyplot as plt\n",
    "import seaborn as sns\n",
    "\n",
    "df = pd.read_csv(\"bmi1_data.csv\", sep=\";\", quotechar='\"')\n",
    "df.head()"
   ]
  },
  {
   "cell_type": "markdown",
   "id": "1a752d47",
   "metadata": {},
   "source": [
    "height → quantitative (measured in cm).\n",
    "\n",
    "weight → quantitative (kg).\n",
    "\n",
    "gender → categorical (0/1 usually, representing male/female or similar).\n",
    "\n",
    "urbanity → categorical (looks like 0/1; rural vs urban).\n",
    "\n",
    "fastfood → quantitative (looks like number of fast food meals per month)."
   ]
  },
  {
   "cell_type": "code",
   "execution_count": null,
   "id": "4442d117",
   "metadata": {},
   "outputs": [
    {
     "data": {
      "text/html": [
       "<div>\n",
       "<style scoped>\n",
       "    .dataframe tbody tr th:only-of-type {\n",
       "        vertical-align: middle;\n",
       "    }\n",
       "\n",
       "    .dataframe tbody tr th {\n",
       "        vertical-align: top;\n",
       "    }\n",
       "\n",
       "    .dataframe thead th {\n",
       "        text-align: right;\n",
       "    }\n",
       "</style>\n",
       "<table border=\"1\" class=\"dataframe\">\n",
       "  <thead>\n",
       "    <tr style=\"text-align: right;\">\n",
       "      <th></th>\n",
       "      <th>height</th>\n",
       "      <th>weight</th>\n",
       "      <th>gender</th>\n",
       "      <th>urbanity</th>\n",
       "      <th>fastfood</th>\n",
       "    </tr>\n",
       "  </thead>\n",
       "  <tbody>\n",
       "    <tr>\n",
       "      <th>count</th>\n",
       "      <td>145.000000</td>\n",
       "      <td>145.000000</td>\n",
       "      <td>145.000000</td>\n",
       "      <td>145.000000</td>\n",
       "      <td>145.000000</td>\n",
       "    </tr>\n",
       "    <tr>\n",
       "      <th>mean</th>\n",
       "      <td>173.903448</td>\n",
       "      <td>76.737931</td>\n",
       "      <td>0.503448</td>\n",
       "      <td>3.668966</td>\n",
       "      <td>21.037241</td>\n",
       "    </tr>\n",
       "    <tr>\n",
       "      <th>std</th>\n",
       "      <td>9.328365</td>\n",
       "      <td>15.208286</td>\n",
       "      <td>0.501721</td>\n",
       "      <td>1.374647</td>\n",
       "      <td>40.321484</td>\n",
       "    </tr>\n",
       "    <tr>\n",
       "      <th>min</th>\n",
       "      <td>154.000000</td>\n",
       "      <td>50.000000</td>\n",
       "      <td>0.000000</td>\n",
       "      <td>1.000000</td>\n",
       "      <td>0.000000</td>\n",
       "    </tr>\n",
       "    <tr>\n",
       "      <th>25%</th>\n",
       "      <td>166.000000</td>\n",
       "      <td>65.000000</td>\n",
       "      <td>0.000000</td>\n",
       "      <td>3.000000</td>\n",
       "      <td>6.000000</td>\n",
       "    </tr>\n",
       "    <tr>\n",
       "      <th>50%</th>\n",
       "      <td>173.000000</td>\n",
       "      <td>75.000000</td>\n",
       "      <td>1.000000</td>\n",
       "      <td>4.000000</td>\n",
       "      <td>6.000000</td>\n",
       "    </tr>\n",
       "    <tr>\n",
       "      <th>75%</th>\n",
       "      <td>182.000000</td>\n",
       "      <td>87.000000</td>\n",
       "      <td>1.000000</td>\n",
       "      <td>5.000000</td>\n",
       "      <td>24.000000</td>\n",
       "    </tr>\n",
       "    <tr>\n",
       "      <th>max</th>\n",
       "      <td>196.000000</td>\n",
       "      <td>130.000000</td>\n",
       "      <td>1.000000</td>\n",
       "      <td>5.000000</td>\n",
       "      <td>365.000000</td>\n",
       "    </tr>\n",
       "  </tbody>\n",
       "</table>\n",
       "</div>"
      ],
      "text/plain": [
       "           height      weight      gender    urbanity    fastfood\n",
       "count  145.000000  145.000000  145.000000  145.000000  145.000000\n",
       "mean   173.903448   76.737931    0.503448    3.668966   21.037241\n",
       "std      9.328365   15.208286    0.501721    1.374647   40.321484\n",
       "min    154.000000   50.000000    0.000000    1.000000    0.000000\n",
       "25%    166.000000   65.000000    0.000000    3.000000    6.000000\n",
       "50%    173.000000   75.000000    1.000000    4.000000    6.000000\n",
       "75%    182.000000   87.000000    1.000000    5.000000   24.000000\n",
       "max    196.000000  130.000000    1.000000    5.000000  365.000000"
      ]
     },
     "execution_count": 14,
     "metadata": {},
     "output_type": "execute_result"
    }
   ],
   "source": [
    "## TODO\n",
    "df.describe()\n",
    "# data is mostly clear and makes sense, but fastfood has a big range between mean and median. \n",
    "# This is likely due to outliers—a few individuals who eat fast food very frequently.\n",
    "# We can check this with a boxplot.\n"
   ]
  },
  {
   "cell_type": "code",
   "execution_count": null,
   "id": "0e71fa38",
   "metadata": {},
   "outputs": [
    {
     "data": {
      "text/plain": [
       "145"
      ]
     },
     "execution_count": 18,
     "metadata": {},
     "output_type": "execute_result"
    }
   ],
   "source": [
    "df.isnull().sum()  # no missing values\n",
    "len(df)  # 145 rows"
   ]
  },
  {
   "cell_type": "markdown",
   "id": "66836fef",
   "metadata": {},
   "source": [
    "## 2. Calculating BMI\n",
    "\n",
    "- Compute BMI for each respondent using the formula:\n",
    "\n",
    "  $$\\text{BMI} = \\frac{\\text{weight (kg)}}{\\left[\\text{height (m)}\\right]^2}$$\n",
    "\n",
    "- Add BMI as a new column to the dataset.\n",
    "\n",
    "---\n"
   ]
  },
  {
   "cell_type": "code",
   "execution_count": null,
   "id": "8405a5df",
   "metadata": {},
   "outputs": [
    {
     "data": {
      "text/html": [
       "<div>\n",
       "<style scoped>\n",
       "    .dataframe tbody tr th:only-of-type {\n",
       "        vertical-align: middle;\n",
       "    }\n",
       "\n",
       "    .dataframe tbody tr th {\n",
       "        vertical-align: top;\n",
       "    }\n",
       "\n",
       "    .dataframe thead th {\n",
       "        text-align: right;\n",
       "    }\n",
       "</style>\n",
       "<table border=\"1\" class=\"dataframe\">\n",
       "  <thead>\n",
       "    <tr style=\"text-align: right;\">\n",
       "      <th></th>\n",
       "      <th>height</th>\n",
       "      <th>weight</th>\n",
       "      <th>gender</th>\n",
       "      <th>urbanity</th>\n",
       "      <th>fastfood</th>\n",
       "      <th>bmi</th>\n",
       "    </tr>\n",
       "  </thead>\n",
       "  <tbody>\n",
       "    <tr>\n",
       "      <th>0</th>\n",
       "      <td>180</td>\n",
       "      <td>80</td>\n",
       "      <td>1</td>\n",
       "      <td>5</td>\n",
       "      <td>24.0</td>\n",
       "      <td>24.691358</td>\n",
       "    </tr>\n",
       "    <tr>\n",
       "      <th>1</th>\n",
       "      <td>185</td>\n",
       "      <td>98</td>\n",
       "      <td>1</td>\n",
       "      <td>1</td>\n",
       "      <td>6.0</td>\n",
       "      <td>28.634039</td>\n",
       "    </tr>\n",
       "    <tr>\n",
       "      <th>2</th>\n",
       "      <td>180</td>\n",
       "      <td>80</td>\n",
       "      <td>1</td>\n",
       "      <td>5</td>\n",
       "      <td>6.0</td>\n",
       "      <td>24.691358</td>\n",
       "    </tr>\n",
       "    <tr>\n",
       "      <th>3</th>\n",
       "      <td>168</td>\n",
       "      <td>60</td>\n",
       "      <td>0</td>\n",
       "      <td>4</td>\n",
       "      <td>24.0</td>\n",
       "      <td>21.258503</td>\n",
       "    </tr>\n",
       "    <tr>\n",
       "      <th>4</th>\n",
       "      <td>173</td>\n",
       "      <td>83</td>\n",
       "      <td>1</td>\n",
       "      <td>5</td>\n",
       "      <td>24.0</td>\n",
       "      <td>27.732300</td>\n",
       "    </tr>\n",
       "  </tbody>\n",
       "</table>\n",
       "</div>"
      ],
      "text/plain": [
       "   height  weight  gender  urbanity  fastfood        bmi\n",
       "0     180      80       1         5      24.0  24.691358\n",
       "1     185      98       1         1       6.0  28.634039\n",
       "2     180      80       1         5       6.0  24.691358\n",
       "3     168      60       0         4      24.0  21.258503\n",
       "4     173      83       1         5      24.0  27.732300"
      ]
     },
     "execution_count": 19,
     "metadata": {},
     "output_type": "execute_result"
    }
   ],
   "source": [
    "## TODO\n",
    "bmi = df[\"weight\"] / (df[\"height\"]/100)**2\n",
    "df[\"bmi\"] = bmi\n",
    "df.head()"
   ]
  },
  {
   "cell_type": "markdown",
   "id": "2135e50c",
   "metadata": {},
   "source": [
    "\n",
    "## 3. Empirical Distribution of BMI\n",
    "\n",
    "**b) Density Histogram of BMI Scores**\n",
    "\n",
    "- Plot a density histogram of BMI.\n",
    "- Describe the distribution: symmetry, skewness, possible negative values, and variation.\n",
    "\n",
    "**Instructions:**  \n",
    "- Comment on the shape and spread of the BMI distribution.\n",
    "\n",
    "---\n"
   ]
  },
  {
   "cell_type": "code",
   "execution_count": null,
   "id": "ec9854e2",
   "metadata": {},
   "outputs": [
    {
     "data": {
      "image/png": "[encoded data removed]",
      "text/plain": [
       "<Figure size 800x500 with 1 Axes>"
      ]
     },
     "metadata": {},
     "output_type": "display_data"
    }
   ],
   "source": [
    "## TODO\n",
    "plt.figure(figsize=(8,5))\n",
    "sns.histplot(df[\"bmi\"], kde=True, stat=\"density\", bins=30)\n",
    "\n",
    "plt.xlabel(\"BMI\")\n",
    "plt.ylabel(\"Density\")\n",
    "plt.title(\"Density Histogram of BMI\")\n",
    "plt.show()"
   ]
  },
  {
   "cell_type": "markdown",
   "id": "187915d5",
   "metadata": {},
   "source": [
    "- The shape is roughly unimodal. Most values are clsutered between 30 and 30.\n",
    "- The distribution is slightly right-skewed: there’s a longer tail extending into higher BMI values (30+).\n",
    "- No negative or impossible values are present.\n",
    "- There’s some spread: while most people fall in the normal-to-overweight range, a few outliers push toward 35–40."
   ]
  },
  {
   "cell_type": "markdown",
   "id": "6b1f9177",
   "metadata": {},
   "source": [
    "\n",
    "## 4. Gender Subsets\n",
    "\n",
    "**c) Separate Density Histograms for Women and Men**\n",
    "\n",
    "- Create subsets for women and men.\n",
    "- Plot density histograms for each group.\n",
    "- Compare and describe the distributions.\n",
    "\n",
    "\n",
    "**Instructions:**  \n",
    "- Discuss any gender differences in the BMI distributions.\n",
    "\n",
    "---\n"
   ]
  },
  {
   "cell_type": "code",
   "execution_count": 4,
   "id": "907c3816",
   "metadata": {},
   "outputs": [],
   "source": [
    "## TODO\n",
    "### Insert your Answer Here ###"
   ]
  },
  {
   "cell_type": "markdown",
   "id": "4eaccc3d",
   "metadata": {},
   "source": [
    "\n",
    "## 5. Boxplot by Gender\n",
    "\n",
    "**d) Box Plot of BMI by Gender**\n",
    "\n",
    "- Create a box plot of BMI scores grouped by gender.\n",
    "- Describe the distribution, symmetry/skewness, differences, and outliers.\n",
    "\n",
    "**Instructions:**  \n",
    "- Interpret the box plot and compare distributions.\n",
    "\n",
    "---\n"
   ]
  },
  {
   "cell_type": "code",
   "execution_count": 5,
   "id": "2de99253",
   "metadata": {},
   "outputs": [],
   "source": [
    "## TODO\n",
    "### Insert your Answer Here ###"
   ]
  },
  {
   "cell_type": "markdown",
   "id": "732695af",
   "metadata": {},
   "source": [
    "## 6. Summary Statistics\n",
    "\n",
    "**e) Key Summary Statistics for BMI**\n",
    "\n",
    "- Calculate and report the following for everyone, women, and men:\n",
    "  - Number of observations (n)\n",
    "  - Sample mean (\\(\\bar{x}\\))\n",
    "  - Sample variance (\\(s^2\\))\n",
    "  - Sample standard deviation (\\(s\\))\n",
    "  - Lower quartile (Q1)\n",
    "  - Median (Q2)\n",
    "  - Upper quartile (Q3)\n",
    "\n",
    "**Instructions:**  \n",
    "- Present the summary statistics in a table.\n",
    "- Discuss what additional insights are provided by the table compared to the box plot.\n",
    "\n",
    "---\n"
   ]
  },
  {
   "cell_type": "code",
   "execution_count": 6,
   "id": "c1bdddfe",
   "metadata": {},
   "outputs": [],
   "source": [
    "## TODO\n",
    "### Insert your Answer Here ###"
   ]
  },
  {
   "cell_type": "markdown",
   "id": "c1482d05",
   "metadata": {},
   "source": [
    "## Part 2: Missing Values, Outliers, and Bivariate EDA"
   ]
  },
  {
   "cell_type": "markdown",
   "id": "d551c589",
   "metadata": {},
   "source": [
    "## 1. Missing Values\n",
    "\n",
    "- List the number of missing values for each variable in the dataset.\n",
    "- Choose and apply appropriate strategies for handling missing values (e.g., removal, imputation).\n",
    "- Justify your chosen approach.\n",
    "- Show the number of observations before and after handling missing values."
   ]
  },
  {
   "cell_type": "code",
   "execution_count": 8,
   "id": "903400c1",
   "metadata": {},
   "outputs": [],
   "source": [
    "## TODO\n",
    "### Insert your Answer Here ###"
   ]
  },
  {
   "cell_type": "markdown",
   "id": "b8f2f22d",
   "metadata": {},
   "source": [
    "## 2. Outlier Detection and Handling\n",
    "\n",
    "### a) Identifying Outliers\n",
    "\n",
    "- Use visual (boxplots, scatterplots) and statistical methods (e.g., IQR rule, z-scores) to detect outliers in BMI, height, and weight.\n",
    "- List any extreme values found and discuss whether they are plausible or likely errors.\n",
    "\n"
   ]
  },
  {
   "cell_type": "code",
   "execution_count": 16,
   "id": "89b5d35f",
   "metadata": {},
   "outputs": [
    {
     "data": {
      "image/png": "[encoded data removed]",
      "text/plain": [
       "<Figure size 640x480 with 1 Axes>"
      ]
     },
     "metadata": {},
     "output_type": "display_data"
    }
   ],
   "source": [
    "## TODO\n",
    "### Insert your Answer Here ###\n",
    "\n",
    "sns.boxplot(data=df, x=\"fastfood\")\n",
    "plt.show()"
   ]
  },
  {
   "cell_type": "markdown",
   "id": "59bafb14",
   "metadata": {},
   "source": [
    "\n",
    "### b) Handling Outliers\n",
    "\n",
    "- Decide how to handle detected outliers (e.g., keep, remove, or correct).\n",
    "- Justify your approach and show the effect on the dataset.\n",
    "\n"
   ]
  },
  {
   "cell_type": "code",
   "execution_count": 10,
   "id": "8979b7a2",
   "metadata": {},
   "outputs": [],
   "source": [
    "## TODO\n",
    "### Insert your Answer Here ###"
   ]
  },
  {
   "cell_type": "markdown",
   "id": "95f701d4",
   "metadata": {},
   "source": [
    "## 3. Bivariate Exploratory Data Analysis (EDA)\n",
    "\n",
    "### a) BMI and Fast Food Consumption\n",
    "\n",
    "- Create a scatter plot of BMI vs. fast food consumption.\n",
    "- Calculate and interpret the correlation coefficient.\n",
    "- Comment on any patterns or associations observed."
   ]
  },
  {
   "cell_type": "code",
   "execution_count": 11,
   "id": "807eb720",
   "metadata": {},
   "outputs": [],
   "source": [
    "## TODO\n",
    "### Insert your Answer Here ###"
   ]
  },
  {
   "cell_type": "markdown",
   "id": "32748d3a",
   "metadata": {},
   "source": [
    "### b) BMI by Gender\n",
    "\n",
    "- Use boxplots or violin plots to compare BMI distributions between genders.\n",
    "- Test for significant differences (e.g., t-test or Mann-Whitney U test)."
   ]
  },
  {
   "cell_type": "code",
   "execution_count": 12,
   "id": "35386a30",
   "metadata": {},
   "outputs": [],
   "source": [
    "## TODO\n",
    "### Insert your Answer Here ###"
   ]
  },
  {
   "cell_type": "markdown",
   "id": "fc3331ee",
   "metadata": {},
   "source": [
    "### c) BMI by Urbanity\n",
    "\n",
    "- Visualize BMI across different urbanity categories using boxplots or bar plots.\n",
    "- Discuss any differences or trends."
   ]
  },
  {
   "cell_type": "code",
   "execution_count": 13,
   "id": "ca559b85",
   "metadata": {},
   "outputs": [],
   "source": [
    "## TODO\n",
    "### Insert your Answer Here ###"
   ]
  },
  {
   "cell_type": "markdown",
   "id": "a954c81c",
   "metadata": {},
   "source": [
    "### d) Additional Bivariate Relationships\n",
    "\n",
    "- Explore other pairs of variables as relevant (e.g., weight vs. height, fast food vs. gender).\n",
    "- Use appropriate plots and statistics."
   ]
  },
  {
   "cell_type": "code",
   "execution_count": 14,
   "id": "43e7e68c",
   "metadata": {},
   "outputs": [],
   "source": [
    "## TODO\n",
    "### Insert your Answer Here ###"
   ]
  },
  {
   "cell_type": "markdown",
   "id": "45eb2cf5",
   "metadata": {},
   "source": [
    "## 4. Summary\n",
    "\n",
    "- Summarize the key findings from your missing value analysis, outlier handling, and bivariate EDA.\n",
    "- Discuss how these steps improve the quality and reliability of your subsequent analyses."
   ]
  },
  {
   "cell_type": "code",
   "execution_count": 15,
   "id": "88e7f25f",
   "metadata": {},
   "outputs": [],
   "source": [
    "## TODO\n",
    "### Insert your Answer Here ###"
   ]
  },
  {
   "cell_type": "markdown",
   "id": "5239068c",
   "metadata": {},
   "source": [
    "Happy Coding .... ;) "
   ]
  }
 ],
 "metadata": {
  "kernelspec": {
   "display_name": "Python 3",
   "language": "python",
   "name": "python3"
  },
  "language_info": {
   "codemirror_mode": {
    "name": "ipython",
    "version": 3
   },
   "file_extension": ".py",
   "mimetype": "text/x-python",
   "name": "python",
   "nbconvert_exporter": "python",
   "pygments_lexer": "ipython3",
   "version": "3.13.3"
  }
 },
 "nbformat": 4,
 "nbformat_minor": 5
}
