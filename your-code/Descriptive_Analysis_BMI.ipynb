{
 "cells": [
  {
   "cell_type": "markdown",
   "id": "8669f4e7",
   "metadata": {},
   "source": [
    "# LAB | BMI Survey \n"
   ]
  },
  {
   "cell_type": "markdown",
   "id": "0e1c2d9c",
   "metadata": {},
   "source": [
    "## Part 1: Descriptive Analysis\n",
    "\n",
    "## Problem Description\n",
    "\n",
    "Overweight and obesity, measured by Body Mass Index (BMI), are increasing health concerns in Denmark and globally. This project analyzes BMI data from a Danish survey to provide an overview of BMI distributions and investigate potential factors influencing BMI, such as gender, age, and fast food consumption. The analysis aims to summarize and visualize the data using descriptive statistics and graphical methods.\n",
    "\n",
    "---\n",
    "\n",
    "## Instructions\n",
    "\n",
    "- Complete each section below using Python and appropriate libraries (e.g., pandas, numpy, matplotlib, seaborn).\n",
    "- Provide code, tables, and figures as needed.\n",
    "- Write brief explanations for your findings after each analysis step.\n",
    "- Do **not** include code in your final report; code should be submitted separately as an appendix.\n",
    "- Ensure all figures and tables are clearly labeled and referenced in your explanations.\n",
    "\n",
    "---"
   ]
  },
  {
   "cell_type": "markdown",
   "id": "77e1a6b2",
   "metadata": {},
   "source": [
    "## Q1. Data Overview\n",
    "\n",
    "**a) Short Description of the Data**\n",
    "\n",
    "- List all variables in the dataset.\n",
    "- Classify each variable as quantitative or categorical.\n",
    "- State the number of observations.\n",
    "- Check for missing values.\n",
    "\n",
    "\n",
    "**Instructions:**  \n",
    "- Summarize the dataset variables and their types.\n",
    "- Report the number of observations and any missing values.\n",
    "\n",
    "---"
   ]
  },
  {
   "cell_type": "code",
   "execution_count": 2,
   "id": "093bb00c",
   "metadata": {},
   "outputs": [
    {
     "data": {
      "text/html": [
       "<div>\n",
       "<style scoped>\n",
       "    .dataframe tbody tr th:only-of-type {\n",
       "        vertical-align: middle;\n",
       "    }\n",
       "\n",
       "    .dataframe tbody tr th {\n",
       "        vertical-align: top;\n",
       "    }\n",
       "\n",
       "    .dataframe thead th {\n",
       "        text-align: right;\n",
       "    }\n",
       "</style>\n",
       "<table border=\"1\" class=\"dataframe\">\n",
       "  <thead>\n",
       "    <tr style=\"text-align: right;\">\n",
       "      <th></th>\n",
       "      <th>height</th>\n",
       "      <th>weight</th>\n",
       "      <th>gender</th>\n",
       "      <th>urbanity</th>\n",
       "      <th>fastfood</th>\n",
       "    </tr>\n",
       "  </thead>\n",
       "  <tbody>\n",
       "    <tr>\n",
       "      <th>0</th>\n",
       "      <td>180</td>\n",
       "      <td>80</td>\n",
       "      <td>1</td>\n",
       "      <td>5</td>\n",
       "      <td>24.0</td>\n",
       "    </tr>\n",
       "    <tr>\n",
       "      <th>1</th>\n",
       "      <td>185</td>\n",
       "      <td>98</td>\n",
       "      <td>1</td>\n",
       "      <td>1</td>\n",
       "      <td>6.0</td>\n",
       "    </tr>\n",
       "    <tr>\n",
       "      <th>2</th>\n",
       "      <td>180</td>\n",
       "      <td>80</td>\n",
       "      <td>1</td>\n",
       "      <td>5</td>\n",
       "      <td>6.0</td>\n",
       "    </tr>\n",
       "    <tr>\n",
       "      <th>3</th>\n",
       "      <td>168</td>\n",
       "      <td>60</td>\n",
       "      <td>0</td>\n",
       "      <td>4</td>\n",
       "      <td>24.0</td>\n",
       "    </tr>\n",
       "    <tr>\n",
       "      <th>4</th>\n",
       "      <td>173</td>\n",
       "      <td>83</td>\n",
       "      <td>1</td>\n",
       "      <td>5</td>\n",
       "      <td>24.0</td>\n",
       "    </tr>\n",
       "  </tbody>\n",
       "</table>\n",
       "</div>"
      ],
      "text/plain": [
       "   height  weight  gender  urbanity  fastfood\n",
       "0     180      80       1         5      24.0\n",
       "1     185      98       1         1       6.0\n",
       "2     180      80       1         5       6.0\n",
       "3     168      60       0         4      24.0\n",
       "4     173      83       1         5      24.0"
      ]
     },
     "execution_count": 2,
     "metadata": {},
     "output_type": "execute_result"
    }
   ],
   "source": [
    "import pandas as pd \n",
    "import numpy as np\n",
    "import matplotlib.pyplot as plt\n",
    "import seaborn as sns\n",
    "\n",
    "df = pd.read_csv(\"bmi1_data.csv\", sep=\";\", quotechar='\"')\n",
    "df.head()"
   ]
  },
  {
   "cell_type": "markdown",
   "id": "1a752d47",
   "metadata": {},
   "source": [
    "height → quantitative (measured in cm).\n",
    "\n",
    "weight → quantitative (kg).\n",
    "\n",
    "gender → categorical (0/1 usually, representing male/female or similar).\n",
    "\n",
    "urbanity → categorical (looks like 0/1; rural vs urban).\n",
    "\n",
    "fastfood → quantitative (looks like number of fast food meals per month)."
   ]
  },
  {
   "cell_type": "code",
   "execution_count": 3,
   "id": "4442d117",
   "metadata": {},
   "outputs": [
    {
     "data": {
      "text/html": [
       "<div>\n",
       "<style scoped>\n",
       "    .dataframe tbody tr th:only-of-type {\n",
       "        vertical-align: middle;\n",
       "    }\n",
       "\n",
       "    .dataframe tbody tr th {\n",
       "        vertical-align: top;\n",
       "    }\n",
       "\n",
       "    .dataframe thead th {\n",
       "        text-align: right;\n",
       "    }\n",
       "</style>\n",
       "<table border=\"1\" class=\"dataframe\">\n",
       "  <thead>\n",
       "    <tr style=\"text-align: right;\">\n",
       "      <th></th>\n",
       "      <th>height</th>\n",
       "      <th>weight</th>\n",
       "      <th>gender</th>\n",
       "      <th>urbanity</th>\n",
       "      <th>fastfood</th>\n",
       "    </tr>\n",
       "  </thead>\n",
       "  <tbody>\n",
       "    <tr>\n",
       "      <th>count</th>\n",
       "      <td>145.000000</td>\n",
       "      <td>145.000000</td>\n",
       "      <td>145.000000</td>\n",
       "      <td>145.000000</td>\n",
       "      <td>145.000000</td>\n",
       "    </tr>\n",
       "    <tr>\n",
       "      <th>mean</th>\n",
       "      <td>173.903448</td>\n",
       "      <td>76.737931</td>\n",
       "      <td>0.503448</td>\n",
       "      <td>3.668966</td>\n",
       "      <td>21.037241</td>\n",
       "    </tr>\n",
       "    <tr>\n",
       "      <th>std</th>\n",
       "      <td>9.328365</td>\n",
       "      <td>15.208286</td>\n",
       "      <td>0.501721</td>\n",
       "      <td>1.374647</td>\n",
       "      <td>40.321484</td>\n",
       "    </tr>\n",
       "    <tr>\n",
       "      <th>min</th>\n",
       "      <td>154.000000</td>\n",
       "      <td>50.000000</td>\n",
       "      <td>0.000000</td>\n",
       "      <td>1.000000</td>\n",
       "      <td>0.000000</td>\n",
       "    </tr>\n",
       "    <tr>\n",
       "      <th>25%</th>\n",
       "      <td>166.000000</td>\n",
       "      <td>65.000000</td>\n",
       "      <td>0.000000</td>\n",
       "      <td>3.000000</td>\n",
       "      <td>6.000000</td>\n",
       "    </tr>\n",
       "    <tr>\n",
       "      <th>50%</th>\n",
       "      <td>173.000000</td>\n",
       "      <td>75.000000</td>\n",
       "      <td>1.000000</td>\n",
       "      <td>4.000000</td>\n",
       "      <td>6.000000</td>\n",
       "    </tr>\n",
       "    <tr>\n",
       "      <th>75%</th>\n",
       "      <td>182.000000</td>\n",
       "      <td>87.000000</td>\n",
       "      <td>1.000000</td>\n",
       "      <td>5.000000</td>\n",
       "      <td>24.000000</td>\n",
       "    </tr>\n",
       "    <tr>\n",
       "      <th>max</th>\n",
       "      <td>196.000000</td>\n",
       "      <td>130.000000</td>\n",
       "      <td>1.000000</td>\n",
       "      <td>5.000000</td>\n",
       "      <td>365.000000</td>\n",
       "    </tr>\n",
       "  </tbody>\n",
       "</table>\n",
       "</div>"
      ],
      "text/plain": [
       "           height      weight      gender    urbanity    fastfood\n",
       "count  145.000000  145.000000  145.000000  145.000000  145.000000\n",
       "mean   173.903448   76.737931    0.503448    3.668966   21.037241\n",
       "std      9.328365   15.208286    0.501721    1.374647   40.321484\n",
       "min    154.000000   50.000000    0.000000    1.000000    0.000000\n",
       "25%    166.000000   65.000000    0.000000    3.000000    6.000000\n",
       "50%    173.000000   75.000000    1.000000    4.000000    6.000000\n",
       "75%    182.000000   87.000000    1.000000    5.000000   24.000000\n",
       "max    196.000000  130.000000    1.000000    5.000000  365.000000"
      ]
     },
     "execution_count": 3,
     "metadata": {},
     "output_type": "execute_result"
    }
   ],
   "source": [
    "## TODO\n",
    "df.describe()\n",
    "# data is mostly clear and makes sense, but fastfood has a big range between mean and median. \n",
    "# This is likely due to outliers—a few individuals who eat fast food very frequently.\n",
    "# We can check this with a boxplot.\n"
   ]
  },
  {
   "cell_type": "code",
   "execution_count": 4,
   "id": "0e71fa38",
   "metadata": {},
   "outputs": [
    {
     "data": {
      "text/plain": [
       "145"
      ]
     },
     "execution_count": 4,
     "metadata": {},
     "output_type": "execute_result"
    }
   ],
   "source": [
    "df.isnull().sum()  # no missing values\n",
    "len(df)  # 145 rows"
   ]
  },
  {
   "cell_type": "markdown",
   "id": "66836fef",
   "metadata": {},
   "source": [
    "## 2. Calculating BMI\n",
    "\n",
    "- Compute BMI for each respondent using the formula:\n",
    "\n",
    "  $$\\text{BMI} = \\frac{\\text{weight (kg)}}{\\left[\\text{height (m)}\\right]^2}$$\n",
    "\n",
    "- Add BMI as a new column to the dataset.\n",
    "\n",
    "---\n"
   ]
  },
  {
   "cell_type": "code",
   "execution_count": 5,
   "id": "8405a5df",
   "metadata": {},
   "outputs": [
    {
     "data": {
      "text/html": [
       "<div>\n",
       "<style scoped>\n",
       "    .dataframe tbody tr th:only-of-type {\n",
       "        vertical-align: middle;\n",
       "    }\n",
       "\n",
       "    .dataframe tbody tr th {\n",
       "        vertical-align: top;\n",
       "    }\n",
       "\n",
       "    .dataframe thead th {\n",
       "        text-align: right;\n",
       "    }\n",
       "</style>\n",
       "<table border=\"1\" class=\"dataframe\">\n",
       "  <thead>\n",
       "    <tr style=\"text-align: right;\">\n",
       "      <th></th>\n",
       "      <th>height</th>\n",
       "      <th>weight</th>\n",
       "      <th>gender</th>\n",
       "      <th>urbanity</th>\n",
       "      <th>fastfood</th>\n",
       "      <th>bmi</th>\n",
       "    </tr>\n",
       "  </thead>\n",
       "  <tbody>\n",
       "    <tr>\n",
       "      <th>0</th>\n",
       "      <td>180</td>\n",
       "      <td>80</td>\n",
       "      <td>1</td>\n",
       "      <td>5</td>\n",
       "      <td>24.0</td>\n",
       "      <td>24.691358</td>\n",
       "    </tr>\n",
       "    <tr>\n",
       "      <th>1</th>\n",
       "      <td>185</td>\n",
       "      <td>98</td>\n",
       "      <td>1</td>\n",
       "      <td>1</td>\n",
       "      <td>6.0</td>\n",
       "      <td>28.634039</td>\n",
       "    </tr>\n",
       "    <tr>\n",
       "      <th>2</th>\n",
       "      <td>180</td>\n",
       "      <td>80</td>\n",
       "      <td>1</td>\n",
       "      <td>5</td>\n",
       "      <td>6.0</td>\n",
       "      <td>24.691358</td>\n",
       "    </tr>\n",
       "    <tr>\n",
       "      <th>3</th>\n",
       "      <td>168</td>\n",
       "      <td>60</td>\n",
       "      <td>0</td>\n",
       "      <td>4</td>\n",
       "      <td>24.0</td>\n",
       "      <td>21.258503</td>\n",
       "    </tr>\n",
       "    <tr>\n",
       "      <th>4</th>\n",
       "      <td>173</td>\n",
       "      <td>83</td>\n",
       "      <td>1</td>\n",
       "      <td>5</td>\n",
       "      <td>24.0</td>\n",
       "      <td>27.732300</td>\n",
       "    </tr>\n",
       "  </tbody>\n",
       "</table>\n",
       "</div>"
      ],
      "text/plain": [
       "   height  weight  gender  urbanity  fastfood        bmi\n",
       "0     180      80       1         5      24.0  24.691358\n",
       "1     185      98       1         1       6.0  28.634039\n",
       "2     180      80       1         5       6.0  24.691358\n",
       "3     168      60       0         4      24.0  21.258503\n",
       "4     173      83       1         5      24.0  27.732300"
      ]
     },
     "execution_count": 5,
     "metadata": {},
     "output_type": "execute_result"
    }
   ],
   "source": [
    "## TODO\n",
    "bmi = df[\"weight\"] / (df[\"height\"]/100)**2\n",
    "df[\"bmi\"] = bmi\n",
    "df.head()"
   ]
  },
  {
   "cell_type": "markdown",
   "id": "2135e50c",
   "metadata": {},
   "source": [
    "\n",
    "## 3. Empirical Distribution of BMI\n",
    "\n",
    "**b) Density Histogram of BMI Scores**\n",
    "\n",
    "- Plot a density histogram of BMI.\n",
    "- Describe the distribution: symmetry, skewness, possible negative values, and variation.\n",
    "\n",
    "**Instructions:**  \n",
    "- Comment on the shape and spread of the BMI distribution.\n",
    "\n",
    "---\n"
   ]
  },
  {
   "cell_type": "code",
   "execution_count": 6,
   "id": "ec9854e2",
   "metadata": {},
   "outputs": [
    {
     "data": {
      "image/png": "[encoded data removed]",
      "text/plain": [
       "<Figure size 800x500 with 1 Axes>"
      ]
     },
     "metadata": {},
     "output_type": "display_data"
    }
   ],
   "source": [
    "## TODO\n",
    "plt.figure(figsize=(8,5))\n",
    "sns.histplot(df[\"bmi\"], kde=True, stat=\"density\", bins=30)\n",
    "\n",
    "plt.xlabel(\"BMI\")\n",
    "plt.ylabel(\"Density\")\n",
    "plt.title(\"Density Histogram of BMI\")\n",
    "plt.show()"
   ]
  },
  {
   "cell_type": "markdown",
   "id": "187915d5",
   "metadata": {},
   "source": [
    "- The shape is roughly unimodal. Most values are clsutered between 30 and 30.\n",
    "- The distribution is slightly right-skewed: there’s a longer tail extending into higher BMI values (30+).\n",
    "- No negative or impossible values are present.\n",
    "- There’s some spread: while most people fall in the normal-to-overweight range, a few outliers push toward 35–40."
   ]
  },
  {
   "cell_type": "markdown",
   "id": "6b1f9177",
   "metadata": {},
   "source": [
    "\n",
    "## 4. Gender Subsets\n",
    "\n",
    "**c) Separate Density Histograms for Women and Men**\n",
    "\n",
    "- Create subsets for women and men.\n",
    "- Plot density histograms for each group.\n",
    "- Compare and describe the distributions.\n",
    "\n",
    "\n",
    "**Instructions:**  \n",
    "- Discuss any gender differences in the BMI distributions.\n",
    "\n",
    "---\n"
   ]
  },
  {
   "cell_type": "code",
   "execution_count": 7,
   "id": "907c3816",
   "metadata": {},
   "outputs": [
    {
     "data": {
      "image/png": "[encoded data removed]",
      "text/plain": [
       "<Figure size 800x500 with 1 Axes>"
      ]
     },
     "metadata": {},
     "output_type": "display_data"
    }
   ],
   "source": [
    "## TODO\n",
    "plt.figure(figsize=(8,5))\n",
    "\n",
    "sns.histplot(df[df[\"gender\"] == 0][\"bmi\"], \n",
    "             kde=True, stat=\"density\", bins=30, \n",
    "             color=\"blue\", alpha=0.5, label=\"Women\")\n",
    "\n",
    "sns.histplot(df[df[\"gender\"] == 1][\"bmi\"], \n",
    "             kde=True, stat=\"density\", bins=30, \n",
    "             color=\"red\", alpha=0.5, label=\"Men\")\n",
    "\n",
    "plt.xlabel(\"BMI\")\n",
    "plt.ylabel(\"Density\")\n",
    "plt.title(\"BMI Distribution by Gender\")\n",
    "plt.legend()\n",
    "plt.show()\n"
   ]
  },
  {
   "cell_type": "markdown",
   "id": "509b27bb",
   "metadata": {},
   "source": [
    "- Both shapes are unimodal, centered around different values. \n",
    "- As expected, women have lowever avarege BMIs than men."
   ]
  },
  {
   "cell_type": "markdown",
   "id": "4eaccc3d",
   "metadata": {},
   "source": [
    "\n",
    "## 5. Boxplot by Gender\n",
    "\n",
    "**d) Box Plot of BMI by Gender**\n",
    "\n",
    "- Create a box plot of BMI scores grouped by gender.\n",
    "- Describe the distribution, symmetry/skewness, differences, and outliers.\n",
    "\n",
    "**Instructions:**  \n",
    "- Interpret the box plot and compare distributions.\n",
    "\n",
    "---\n"
   ]
  },
  {
   "cell_type": "code",
   "execution_count": 8,
   "id": "2de99253",
   "metadata": {},
   "outputs": [
    {
     "data": {
      "image/png": "[encoded data removed]",
      "text/plain": [
       "<Figure size 640x480 with 1 Axes>"
      ]
     },
     "metadata": {},
     "output_type": "display_data"
    }
   ],
   "source": [
    "## TODO\n",
    "sns.boxplot(data=df, x=\"gender\", y=\"bmi\")\n",
    "plt.show()"
   ]
  },
  {
   "cell_type": "markdown",
   "id": "7e399cf7",
   "metadata": {},
   "source": [
    "- Center (Median): Men (1) have a higher median BMI (~26) compared to women (0) (~24).\n",
    "\n",
    "- Spread (IQR): Both groups have similar interquartile ranges (the middle 50% of values), roughly spanning ~22–27 for women and ~24–28 for men.\n",
    "\n",
    "- Skewness: Both distributions are slightly right-skewed, with whiskers extending further toward higher BMI values.\n",
    "\n",
    "- Outliers: Each gender shows a few high-BMI outliers (above 35, approaching 40), indicating individuals well outside the typical range.\n",
    "\n",
    "- Comparison: Men generally have higher BMI than women, but the overall variation is comparable between the two groups."
   ]
  },
  {
   "cell_type": "markdown",
   "id": "732695af",
   "metadata": {},
   "source": [
    "## 6. Summary Statistics\n",
    "\n",
    "**e) Key Summary Statistics for BMI**\n",
    "\n",
    "- Calculate and report the following for everyone, women, and men:\n",
    "  - Number of observations (n)\n",
    "  - Sample mean (\\(\\bar{x}\\))\n",
    "  - Sample variance (\\(s^2\\))\n",
    "  - Sample standard deviation (\\(s\\))\n",
    "  - Lower quartile (Q1)\n",
    "  - Median (Q2)\n",
    "  - Upper quartile (Q3)\n",
    "\n",
    "**Instructions:**  \n",
    "- Present the summary statistics in a table.\n",
    "- Discuss what additional insights are provided by the table compared to the box plot.\n",
    "\n",
    "---\n"
   ]
  },
  {
   "cell_type": "code",
   "execution_count": 13,
   "id": "c1bdddfe",
   "metadata": {},
   "outputs": [
    {
     "data": {
      "text/html": [
       "<div>\n",
       "<style scoped>\n",
       "    .dataframe tbody tr th:only-of-type {\n",
       "        vertical-align: middle;\n",
       "    }\n",
       "\n",
       "    .dataframe tbody tr th {\n",
       "        vertical-align: top;\n",
       "    }\n",
       "\n",
       "    .dataframe thead th {\n",
       "        text-align: right;\n",
       "    }\n",
       "</style>\n",
       "<table border=\"1\" class=\"dataframe\">\n",
       "  <thead>\n",
       "    <tr style=\"text-align: right;\">\n",
       "      <th>gender</th>\n",
       "      <th>Women</th>\n",
       "      <th>Men</th>\n",
       "      <th>Overall</th>\n",
       "    </tr>\n",
       "  </thead>\n",
       "  <tbody>\n",
       "    <tr>\n",
       "      <th>n</th>\n",
       "      <td>72.00</td>\n",
       "      <td>73.00</td>\n",
       "      <td>145.00</td>\n",
       "    </tr>\n",
       "    <tr>\n",
       "      <th>mean_bmi</th>\n",
       "      <td>24.22</td>\n",
       "      <td>26.27</td>\n",
       "      <td>25.25</td>\n",
       "    </tr>\n",
       "    <tr>\n",
       "      <th>variance</th>\n",
       "      <td>16.42</td>\n",
       "      <td>11.07</td>\n",
       "      <td>14.69</td>\n",
       "    </tr>\n",
       "    <tr>\n",
       "      <th>std_dev</th>\n",
       "      <td>4.05</td>\n",
       "      <td>3.33</td>\n",
       "      <td>3.83</td>\n",
       "    </tr>\n",
       "    <tr>\n",
       "      <th>Q1</th>\n",
       "      <td>21.26</td>\n",
       "      <td>24.15</td>\n",
       "      <td>22.59</td>\n",
       "    </tr>\n",
       "    <tr>\n",
       "      <th>median (Q2)</th>\n",
       "      <td>23.69</td>\n",
       "      <td>25.73</td>\n",
       "      <td>24.69</td>\n",
       "    </tr>\n",
       "    <tr>\n",
       "      <th>Q3</th>\n",
       "      <td>26.29</td>\n",
       "      <td>28.63</td>\n",
       "      <td>27.64</td>\n",
       "    </tr>\n",
       "  </tbody>\n",
       "</table>\n",
       "</div>"
      ],
      "text/plain": [
       "gender       Women    Men  Overall\n",
       "n            72.00  73.00   145.00\n",
       "mean_bmi     24.22  26.27    25.25\n",
       "variance     16.42  11.07    14.69\n",
       "std_dev       4.05   3.33     3.83\n",
       "Q1           21.26  24.15    22.59\n",
       "median (Q2)  23.69  25.73    24.69\n",
       "Q3           26.29  28.63    27.64"
      ]
     },
     "execution_count": 13,
     "metadata": {},
     "output_type": "execute_result"
    }
   ],
   "source": [
    "def summary_stats(x):\n",
    "    return pd.Series({\n",
    "        \"n\": x.count(),\n",
    "        \"mean_bmi\": x.mean(),\n",
    "        \"variance\": x.var(),\n",
    "        \"std_dev\": x.std(),\n",
    "        \"Q1\": x.quantile(0.25),\n",
    "        \"median (Q2)\": x.median(),\n",
    "        \"Q3\": x.quantile(0.75),\n",
    "    })\n",
    "\n",
    "by_gender = (\n",
    "    df.groupby(\"gender\")[\"bmi\"]\n",
    "      .apply(summary_stats)\n",
    "      .unstack(level=0)                 # <-- make gender the columns\n",
    "      .rename(columns={0: \"Women\", 1: \"Men\"})\n",
    ")\n",
    "\n",
    "by_gender[\"Overall\"] = summary_stats(df[\"bmi\"])\n",
    "by_gender = by_gender[[\"Women\", \"Men\", \"Overall\"]].round(2)\n",
    "by_gender\n"
   ]
  },
  {
   "cell_type": "markdown",
   "id": "551583ef",
   "metadata": {},
   "source": [
    "Interpretation:\n",
    "The summary table confirms the visual insights from the boxplots. Men have a higher mean and median BMI than women. Women’s BMI shows slightly higher variability (larger variance and std dev). Both groups cover similar ranges, but men’s quartiles are shifted upward. Compared to the boxplot, the table provides exact numerical values, which make differences between groups more precise and easier to report."
   ]
  },
  {
   "cell_type": "markdown",
   "id": "c1482d05",
   "metadata": {},
   "source": [
    "## Part 2: Missing Values, Outliers, and Bivariate EDA"
   ]
  },
  {
   "cell_type": "markdown",
   "id": "d551c589",
   "metadata": {},
   "source": [
    "## 1. Missing Values\n",
    "\n",
    "- List the number of missing values for each variable in the dataset.\n",
    "- Choose and apply appropriate strategies for handling missing values (e.g., removal, imputation).\n",
    "- Justify your chosen approach.\n",
    "- Show the number of observations before and after handling missing values."
   ]
  },
  {
   "cell_type": "code",
   "execution_count": 15,
   "id": "903400c1",
   "metadata": {},
   "outputs": [
    {
     "data": {
      "text/plain": [
       "height      0\n",
       "weight      0\n",
       "gender      0\n",
       "urbanity    0\n",
       "fastfood    0\n",
       "bmi         0\n",
       "dtype: int64"
      ]
     },
     "execution_count": 15,
     "metadata": {},
     "output_type": "execute_result"
    }
   ],
   "source": [
    "## TODO\n",
    "df.isna().sum()  # no missing values"
   ]
  },
  {
   "cell_type": "markdown",
   "id": "b8f2f22d",
   "metadata": {},
   "source": [
    "## 2. Outlier Detection and Handling\n",
    "\n",
    "### a) Identifying Outliers\n",
    "\n",
    "- Use visual (boxplots, scatterplots) and statistical methods (e.g., IQR rule, z-scores) to detect outliers in BMI, height, and weight.\n",
    "- List any extreme values found and discuss whether they are plausible or likely errors.\n",
    "\n"
   ]
  },
  {
   "cell_type": "code",
   "execution_count": null,
   "id": "89b5d35f",
   "metadata": {},
   "outputs": [
    {
     "data": {
      "image/png": "[encoded data removed]",
      "text/plain": [
       "<Figure size 640x480 with 1 Axes>"
      ]
     },
     "metadata": {},
     "output_type": "display_data"
    }
   ],
   "source": [
    "## TODO\n",
    "### Insert your Answer Here ###\n",
    "\n",
    "sns.boxplot(data=df, x=\"fastfood\")\n",
    "plt.show()"
   ]
  },
  {
   "cell_type": "markdown",
   "id": "3461ab2a",
   "metadata": {},
   "source": [
    "- As expected, the boxplot shows that some individuals eat fast food every single day, while others eat fast food almost every day. Both are extreme, but not impossible."
   ]
  },
  {
   "cell_type": "code",
   "execution_count": null,
   "id": "a3bf8564",
   "metadata": {},
   "outputs": [
    {
     "data": {
      "text/html": [
       "<div>\n",
       "<style scoped>\n",
       "    .dataframe tbody tr th:only-of-type {\n",
       "        vertical-align: middle;\n",
       "    }\n",
       "\n",
       "    .dataframe tbody tr th {\n",
       "        vertical-align: top;\n",
       "    }\n",
       "\n",
       "    .dataframe thead th {\n",
       "        text-align: right;\n",
       "    }\n",
       "</style>\n",
       "<table border=\"1\" class=\"dataframe\">\n",
       "  <thead>\n",
       "    <tr style=\"text-align: right;\">\n",
       "      <th></th>\n",
       "      <th>height</th>\n",
       "      <th>weight</th>\n",
       "      <th>gender</th>\n",
       "      <th>urbanity</th>\n",
       "      <th>fastfood</th>\n",
       "      <th>bmi</th>\n",
       "    </tr>\n",
       "  </thead>\n",
       "  <tbody>\n",
       "    <tr>\n",
       "      <th>26</th>\n",
       "      <td>185</td>\n",
       "      <td>82</td>\n",
       "      <td>1</td>\n",
       "      <td>5</td>\n",
       "      <td>78.2</td>\n",
       "      <td>23.959094</td>\n",
       "    </tr>\n",
       "    <tr>\n",
       "      <th>38</th>\n",
       "      <td>172</td>\n",
       "      <td>65</td>\n",
       "      <td>1</td>\n",
       "      <td>4</td>\n",
       "      <td>78.2</td>\n",
       "      <td>21.971336</td>\n",
       "    </tr>\n",
       "    <tr>\n",
       "      <th>48</th>\n",
       "      <td>183</td>\n",
       "      <td>109</td>\n",
       "      <td>1</td>\n",
       "      <td>3</td>\n",
       "      <td>365.0</td>\n",
       "      <td>32.548001</td>\n",
       "    </tr>\n",
       "    <tr>\n",
       "      <th>50</th>\n",
       "      <td>182</td>\n",
       "      <td>79</td>\n",
       "      <td>1</td>\n",
       "      <td>5</td>\n",
       "      <td>78.2</td>\n",
       "      <td>23.849777</td>\n",
       "    </tr>\n",
       "    <tr>\n",
       "      <th>63</th>\n",
       "      <td>187</td>\n",
       "      <td>78</td>\n",
       "      <td>1</td>\n",
       "      <td>5</td>\n",
       "      <td>78.2</td>\n",
       "      <td>22.305471</td>\n",
       "    </tr>\n",
       "    <tr>\n",
       "      <th>73</th>\n",
       "      <td>186</td>\n",
       "      <td>130</td>\n",
       "      <td>1</td>\n",
       "      <td>4</td>\n",
       "      <td>78.2</td>\n",
       "      <td>37.576598</td>\n",
       "    </tr>\n",
       "    <tr>\n",
       "      <th>101</th>\n",
       "      <td>169</td>\n",
       "      <td>55</td>\n",
       "      <td>0</td>\n",
       "      <td>3</td>\n",
       "      <td>78.2</td>\n",
       "      <td>19.257029</td>\n",
       "    </tr>\n",
       "    <tr>\n",
       "      <th>103</th>\n",
       "      <td>176</td>\n",
       "      <td>65</td>\n",
       "      <td>1</td>\n",
       "      <td>5</td>\n",
       "      <td>78.2</td>\n",
       "      <td>20.983988</td>\n",
       "    </tr>\n",
       "    <tr>\n",
       "      <th>105</th>\n",
       "      <td>195</td>\n",
       "      <td>95</td>\n",
       "      <td>1</td>\n",
       "      <td>4</td>\n",
       "      <td>78.2</td>\n",
       "      <td>24.983563</td>\n",
       "    </tr>\n",
       "    <tr>\n",
       "      <th>120</th>\n",
       "      <td>182</td>\n",
       "      <td>82</td>\n",
       "      <td>1</td>\n",
       "      <td>5</td>\n",
       "      <td>78.2</td>\n",
       "      <td>24.755464</td>\n",
       "    </tr>\n",
       "    <tr>\n",
       "      <th>124</th>\n",
       "      <td>187</td>\n",
       "      <td>117</td>\n",
       "      <td>1</td>\n",
       "      <td>5</td>\n",
       "      <td>182.5</td>\n",
       "      <td>33.458206</td>\n",
       "    </tr>\n",
       "    <tr>\n",
       "      <th>127</th>\n",
       "      <td>183</td>\n",
       "      <td>100</td>\n",
       "      <td>1</td>\n",
       "      <td>5</td>\n",
       "      <td>78.2</td>\n",
       "      <td>29.860551</td>\n",
       "    </tr>\n",
       "    <tr>\n",
       "      <th>131</th>\n",
       "      <td>185</td>\n",
       "      <td>85</td>\n",
       "      <td>1</td>\n",
       "      <td>4</td>\n",
       "      <td>78.2</td>\n",
       "      <td>24.835646</td>\n",
       "    </tr>\n",
       "    <tr>\n",
       "      <th>132</th>\n",
       "      <td>184</td>\n",
       "      <td>82</td>\n",
       "      <td>1</td>\n",
       "      <td>5</td>\n",
       "      <td>78.2</td>\n",
       "      <td>24.220227</td>\n",
       "    </tr>\n",
       "    <tr>\n",
       "      <th>141</th>\n",
       "      <td>174</td>\n",
       "      <td>73</td>\n",
       "      <td>1</td>\n",
       "      <td>5</td>\n",
       "      <td>182.5</td>\n",
       "      <td>24.111507</td>\n",
       "    </tr>\n",
       "  </tbody>\n",
       "</table>\n",
       "</div>"
      ],
      "text/plain": [
       "     height  weight  gender  urbanity  fastfood        bmi\n",
       "26      185      82       1         5      78.2  23.959094\n",
       "38      172      65       1         4      78.2  21.971336\n",
       "48      183     109       1         3     365.0  32.548001\n",
       "50      182      79       1         5      78.2  23.849777\n",
       "63      187      78       1         5      78.2  22.305471\n",
       "73      186     130       1         4      78.2  37.576598\n",
       "101     169      55       0         3      78.2  19.257029\n",
       "103     176      65       1         5      78.2  20.983988\n",
       "105     195      95       1         4      78.2  24.983563\n",
       "120     182      82       1         5      78.2  24.755464\n",
       "124     187     117       1         5     182.5  33.458206\n",
       "127     183     100       1         5      78.2  29.860551\n",
       "131     185      85       1         4      78.2  24.835646\n",
       "132     184      82       1         5      78.2  24.220227\n",
       "141     174      73       1         5     182.5  24.111507"
      ]
     },
     "execution_count": 18,
     "metadata": {},
     "output_type": "execute_result"
    }
   ],
   "source": [
    "# confirm which rows these belong to by filtering.\n",
    "df[df[\"fastfood\"] > 50] "
   ]
  },
  {
   "cell_type": "markdown",
   "id": "a0eda28b",
   "metadata": {},
   "source": [
    "- One male eats fast food every day. he has a BMI of 32 (considered obese), and weighs 109kg. "
   ]
  },
  {
   "cell_type": "code",
   "execution_count": 38,
   "id": "89da4083",
   "metadata": {},
   "outputs": [
    {
     "data": {
      "text/html": [
       "<div>\n",
       "<style scoped>\n",
       "    .dataframe tbody tr th:only-of-type {\n",
       "        vertical-align: middle;\n",
       "    }\n",
       "\n",
       "    .dataframe tbody tr th {\n",
       "        vertical-align: top;\n",
       "    }\n",
       "\n",
       "    .dataframe thead th {\n",
       "        text-align: right;\n",
       "    }\n",
       "</style>\n",
       "<table border=\"1\" class=\"dataframe\">\n",
       "  <thead>\n",
       "    <tr style=\"text-align: right;\">\n",
       "      <th></th>\n",
       "      <th>fastfood</th>\n",
       "      <th>fastfood_z</th>\n",
       "    </tr>\n",
       "  </thead>\n",
       "  <tbody>\n",
       "    <tr>\n",
       "      <th>48</th>\n",
       "      <td>365.0</td>\n",
       "      <td>8.560077</td>\n",
       "    </tr>\n",
       "    <tr>\n",
       "      <th>124</th>\n",
       "      <td>182.5</td>\n",
       "      <td>4.018265</td>\n",
       "    </tr>\n",
       "    <tr>\n",
       "      <th>141</th>\n",
       "      <td>182.5</td>\n",
       "      <td>4.018265</td>\n",
       "    </tr>\n",
       "  </tbody>\n",
       "</table>\n",
       "</div>"
      ],
      "text/plain": [
       "     fastfood  fastfood_z\n",
       "48      365.0    8.560077\n",
       "124     182.5    4.018265\n",
       "141     182.5    4.018265"
      ]
     },
     "execution_count": 38,
     "metadata": {},
     "output_type": "execute_result"
    }
   ],
   "source": [
    "from scipy import stats\n",
    "import numpy as np\n",
    "\n",
    "# compute z-scores\n",
    "df[\"fastfood_z\"] = stats.zscore(df[\"fastfood\"], nan_policy='omit')\n",
    "\n",
    "# flag outliers (|z| > 3 is a common rule of thumb)\n",
    "fastfood_outliers = df[np.abs(df[\"fastfood_z\"]) > 3]\n",
    "\n",
    "fastfood_outliers[[\"fastfood\", \"fastfood_z\"]]\n"
   ]
  },
  {
   "cell_type": "markdown",
   "id": "5c3c7ab4",
   "metadata": {},
   "source": [
    "- A z-score of 8.56 means that 365 is 8.5 standard deviations above the mean.\n",
    "- These are strong statistical outliers.\n",
    "\n",
    "- They could be real (somebody eating fast food daily or more), but more likely they’re data entry errors (maybe “365” meant “36.5” or “182.5” meant “18.25”).\n",
    "\n",
    "- Compared to the bulk of the data (clustered around 0–30), these points distort the scale and would definitely need attention before analysis."
   ]
  },
  {
   "cell_type": "code",
   "execution_count": 29,
   "id": "3f3397de",
   "metadata": {},
   "outputs": [
    {
     "data": {
      "image/png": "[encoded data removed]",
      "text/plain": [
       "<Figure size 800x500 with 1 Axes>"
      ]
     },
     "metadata": {},
     "output_type": "display_data"
    }
   ],
   "source": [
    "plt.figure(figsize=(8,5))\n",
    "plt.scatter(df.index, df[\"bmi\"], alpha=0.7)\n",
    "plt.xlabel(\"Observation\")\n",
    "plt.ylabel(\"BMI\")\n",
    "plt.title(\"Scatterplot of BMI\")\n",
    "plt.show()\n",
    "\n"
   ]
  },
  {
   "cell_type": "code",
   "execution_count": 36,
   "id": "be5f47d0",
   "metadata": {},
   "outputs": [
    {
     "data": {
      "text/html": [
       "<div>\n",
       "<style scoped>\n",
       "    .dataframe tbody tr th:only-of-type {\n",
       "        vertical-align: middle;\n",
       "    }\n",
       "\n",
       "    .dataframe tbody tr th {\n",
       "        vertical-align: top;\n",
       "    }\n",
       "\n",
       "    .dataframe thead th {\n",
       "        text-align: right;\n",
       "    }\n",
       "</style>\n",
       "<table border=\"1\" class=\"dataframe\">\n",
       "  <thead>\n",
       "    <tr style=\"text-align: right;\">\n",
       "      <th></th>\n",
       "      <th>height</th>\n",
       "      <th>weight</th>\n",
       "      <th>gender</th>\n",
       "      <th>urbanity</th>\n",
       "      <th>fastfood</th>\n",
       "      <th>bmi</th>\n",
       "    </tr>\n",
       "  </thead>\n",
       "  <tbody>\n",
       "    <tr>\n",
       "      <th>73</th>\n",
       "      <td>186</td>\n",
       "      <td>130</td>\n",
       "      <td>1</td>\n",
       "      <td>4</td>\n",
       "      <td>78.2</td>\n",
       "      <td>37.576598</td>\n",
       "    </tr>\n",
       "    <tr>\n",
       "      <th>144</th>\n",
       "      <td>163</td>\n",
       "      <td>105</td>\n",
       "      <td>0</td>\n",
       "      <td>3</td>\n",
       "      <td>0.0</td>\n",
       "      <td>39.519741</td>\n",
       "    </tr>\n",
       "  </tbody>\n",
       "</table>\n",
       "</div>"
      ],
      "text/plain": [
       "     height  weight  gender  urbanity  fastfood        bmi\n",
       "73      186     130       1         4      78.2  37.576598\n",
       "144     163     105       0         3       0.0  39.519741"
      ]
     },
     "execution_count": 36,
     "metadata": {},
     "output_type": "execute_result"
    }
   ],
   "source": [
    "df[df[\"bmi\"] > 35] "
   ]
  },
  {
   "cell_type": "markdown",
   "id": "37a4880b",
   "metadata": {},
   "source": [
    "- IQR:"
   ]
  },
  {
   "cell_type": "code",
   "execution_count": 37,
   "id": "d9efe4d9",
   "metadata": {},
   "outputs": [
    {
     "data": {
      "text/html": [
       "<div>\n",
       "<style scoped>\n",
       "    .dataframe tbody tr th:only-of-type {\n",
       "        vertical-align: middle;\n",
       "    }\n",
       "\n",
       "    .dataframe tbody tr th {\n",
       "        vertical-align: top;\n",
       "    }\n",
       "\n",
       "    .dataframe thead th {\n",
       "        text-align: right;\n",
       "    }\n",
       "</style>\n",
       "<table border=\"1\" class=\"dataframe\">\n",
       "  <thead>\n",
       "    <tr style=\"text-align: right;\">\n",
       "      <th></th>\n",
       "      <th>height</th>\n",
       "      <th>weight</th>\n",
       "      <th>gender</th>\n",
       "      <th>urbanity</th>\n",
       "      <th>fastfood</th>\n",
       "      <th>bmi</th>\n",
       "    </tr>\n",
       "  </thead>\n",
       "  <tbody>\n",
       "    <tr>\n",
       "      <th>73</th>\n",
       "      <td>186</td>\n",
       "      <td>130</td>\n",
       "      <td>1</td>\n",
       "      <td>4</td>\n",
       "      <td>78.2</td>\n",
       "      <td>37.576598</td>\n",
       "    </tr>\n",
       "    <tr>\n",
       "      <th>144</th>\n",
       "      <td>163</td>\n",
       "      <td>105</td>\n",
       "      <td>0</td>\n",
       "      <td>3</td>\n",
       "      <td>0.0</td>\n",
       "      <td>39.519741</td>\n",
       "    </tr>\n",
       "  </tbody>\n",
       "</table>\n",
       "</div>"
      ],
      "text/plain": [
       "     height  weight  gender  urbanity  fastfood        bmi\n",
       "73      186     130       1         4      78.2  37.576598\n",
       "144     163     105       0         3       0.0  39.519741"
      ]
     },
     "execution_count": 37,
     "metadata": {},
     "output_type": "execute_result"
    }
   ],
   "source": [
    "Q1 = df[\"bmi\"].quantile(0.25)\n",
    "Q3 = df[\"bmi\"].quantile(0.75)\n",
    "IQR = Q3 - Q1\n",
    "\n",
    "lower_bound = Q1 - 1.5 * IQR\n",
    "upper_bound = Q3 + 1.5 * IQR\n",
    "\n",
    "outliers = df[(df[\"bmi\"] < lower_bound) | (df[\"bmi\"] > upper_bound)]\n",
    "outliers\n"
   ]
  },
  {
   "cell_type": "markdown",
   "id": "77011a9f",
   "metadata": {},
   "source": [
    "- BMI of 37 - 40 is high but plausible."
   ]
  },
  {
   "cell_type": "code",
   "execution_count": 35,
   "id": "1f360915",
   "metadata": {},
   "outputs": [
    {
     "data": {
      "image/png": "[encoded data removed]",
      "text/plain": [
       "<Figure size 640x480 with 1 Axes>"
      ]
     },
     "metadata": {},
     "output_type": "display_data"
    }
   ],
   "source": [
    "sns.boxplot(data=df, x=\"height\")\n",
    "plt.show()"
   ]
  },
  {
   "cell_type": "markdown",
   "id": "feb64f08",
   "metadata": {},
   "source": [
    "- No outliers"
   ]
  },
  {
   "cell_type": "markdown",
   "id": "59bafb14",
   "metadata": {},
   "source": [
    "\n",
    "### b) Handling Outliers\n",
    "\n",
    "- Decide how to handle detected outliers (e.g., keep, remove, or correct).\n",
    "- Justify your approach and show the effect on the dataset.\n",
    "\n"
   ]
  },
  {
   "cell_type": "markdown",
   "id": "a071d3fc",
   "metadata": {},
   "source": [
    "### My answer: Keep\n",
    "\n",
    "Justification: They might represent real extreme cases (somebody eating fast food daily).\n",
    "\n",
    "Effect: Skews the distribution, mean goes way up, variance inflates. Median is less affected."
   ]
  },
  {
   "cell_type": "markdown",
   "id": "95f701d4",
   "metadata": {},
   "source": [
    "## 3. Bivariate Exploratory Data Analysis (EDA)\n",
    "\n",
    "### a) BMI and Fast Food Consumption\n",
    "\n",
    "- Create a scatter plot of BMI vs. fast food consumption.\n",
    "- Calculate and interpret the correlation coefficient.\n",
    "- Comment on any patterns or associations observed."
   ]
  },
  {
   "cell_type": "code",
   "execution_count": 40,
   "id": "807eb720",
   "metadata": {},
   "outputs": [
    {
     "data": {
      "image/png": "[encoded data removed]",
      "text/plain": [
       "<Figure size 640x480 with 1 Axes>"
      ]
     },
     "metadata": {},
     "output_type": "display_data"
    }
   ],
   "source": [
    "sns.scatterplot(data=df, x=\"fastfood\", y=\"bmi\")\n",
    "plt.title(\"BMI vs Fastfood Consumption\")\n",
    "plt.show()\n"
   ]
  },
  {
   "cell_type": "code",
   "execution_count": null,
   "id": "a0be73e3",
   "metadata": {},
   "outputs": [
    {
     "name": "stdout",
     "output_type": "stream",
     "text": [
      "Pearson’s r (linear correlation) is 0.15315776740366066\n"
     ]
    }
   ],
   "source": [
    "corr = df[\"bmi\"].corr(df[\"fastfood\"])\n",
    "print(f\"Pearson’s r (linear correlation) is {corr}\")"
   ]
  },
  {
   "cell_type": "markdown",
   "id": "2aee7cc9",
   "metadata": {},
   "source": [
    "With outliers included, r ≈ 0.15.\n",
    "- That’s a very weak positive correlation:\n",
    "- Suggests a slight tendency that higher fastfood consumption is linked to higher BMI.\n",
    "- But the relationship is so weak it’s not practically meaningful."
   ]
  },
  {
   "cell_type": "code",
   "execution_count": 46,
   "id": "c51aaf17",
   "metadata": {
    "vscode": {
     "languageId": "ruby"
    }
   },
   "outputs": [
    {
     "name": "stdout",
     "output_type": "stream",
     "text": [
      "r = -0.022666350451369374\n"
     ]
    }
   ],
   "source": [
    "# remove extreme fastfood outliers\n",
    "df_no_outliers = df[df[\"fastfood\"] <= 50]   # cutoff at 50 meals/month\n",
    "\n",
    "# recompute correlation\n",
    "corr_no_outliers = df_no_outliers[\"bmi\"].corr(df_no_outliers[\"fastfood\"])\n",
    "\n",
    "print(f\"r = {corr_no_outliers}\")\n"
   ]
  },
  {
   "cell_type": "markdown",
   "id": "4b7fa44a",
   "metadata": {},
   "source": [
    "The correlation between fastfood consumption and BMI is distorted by extreme outliers. Including all data, Pearson’s r was 0.15, suggesting a weak positive relationship. After removing implausible values (e.g., 182.5 and 365 meals/month), the correlation dropped to –0.02, indicating no meaningful linear relationship between fastfood consumption and BMI. This suggests that the extreme outliers were driving the initial correlation."
   ]
  },
  {
   "cell_type": "markdown",
   "id": "32748d3a",
   "metadata": {},
   "source": [
    "### b) BMI by Gender\n",
    "\n",
    "- Use boxplots or violin plots to compare BMI distributions between genders.\n",
    "- Test for significant differences (e.g., t-test or Mann-Whitney U test)."
   ]
  },
  {
   "cell_type": "code",
   "execution_count": null,
   "id": "35386a30",
   "metadata": {},
   "outputs": [],
   "source": [
    "## TODO\n",
    "### Insert your Answer Here ###"
   ]
  },
  {
   "cell_type": "markdown",
   "id": "fc3331ee",
   "metadata": {},
   "source": [
    "### c) BMI by Urbanity\n",
    "\n",
    "- Visualize BMI across different urbanity categories using boxplots or bar plots.\n",
    "- Discuss any differences or trends."
   ]
  },
  {
   "cell_type": "code",
   "execution_count": null,
   "id": "ca559b85",
   "metadata": {},
   "outputs": [],
   "source": [
    "## TODO\n",
    "### Insert your Answer Here ###"
   ]
  },
  {
   "cell_type": "markdown",
   "id": "a954c81c",
   "metadata": {},
   "source": [
    "### d) Additional Bivariate Relationships\n",
    "\n",
    "- Explore other pairs of variables as relevant (e.g., weight vs. height, fast food vs. gender).\n",
    "- Use appropriate plots and statistics."
   ]
  },
  {
   "cell_type": "code",
   "execution_count": null,
   "id": "43e7e68c",
   "metadata": {},
   "outputs": [],
   "source": [
    "## TODO\n",
    "### Insert your Answer Here ###"
   ]
  },
  {
   "cell_type": "markdown",
   "id": "45eb2cf5",
   "metadata": {},
   "source": [
    "## 4. Summary\n",
    "\n",
    "- Summarize the key findings from your missing value analysis, outlier handling, and bivariate EDA.\n",
    "- Discuss how these steps improve the quality and reliability of your subsequent analyses."
   ]
  },
  {
   "cell_type": "code",
   "execution_count": null,
   "id": "88e7f25f",
   "metadata": {},
   "outputs": [],
   "source": [
    "## TODO\n",
    "### Insert your Answer Here ###"
   ]
  },
  {
   "cell_type": "markdown",
   "id": "5239068c",
   "metadata": {},
   "source": [
    "Happy Coding .... ;) "
   ]
  }
 ],
 "metadata": {
  "kernelspec": {
   "display_name": "Python 3",
   "language": "python",
   "name": "python3"
  },
  "language_info": {
   "codemirror_mode": {
    "name": "ipython",
    "version": 3
   },
   "file_extension": ".py",
   "mimetype": "text/x-python",
   "name": "python",
   "nbconvert_exporter": "python",
   "pygments_lexer": "ipython3",
   "version": "3.13.3"
  }
 },
 "nbformat": 4,
 "nbformat_minor": 5
}
